{
 "cells": [
  {
   "cell_type": "code",
   "execution_count": 1,
   "metadata": {},
   "outputs": [],
   "source": [
    "%load_ext autoreload\n",
    "%autoreload 2"
   ]
  },
  {
   "cell_type": "code",
   "execution_count": 2,
   "metadata": {},
   "outputs": [],
   "source": [
    "import os\n",
    "import sys\n",
    "module_path = os.path.abspath(os.path.join(os.pardir, os.pardir))\n",
    "if module_path not in sys.path:\n",
    "    sys.path.append(module_path)\n",
    "    \n",
    "sys.path.append('..')"
   ]
  },
  {
   "cell_type": "code",
   "execution_count": 3,
   "metadata": {},
   "outputs": [],
   "source": [
    "from source import data_collection"
   ]
  },
  {
   "cell_type": "code",
   "execution_count": 4,
   "metadata": {},
   "outputs": [
    {
     "name": "stdout",
     "output_type": "stream",
     "text": [
      "Successfully created database and all tables\n",
      "\n",
      "Successfully downloaded ZIP file\n",
      "    https://aqua.kingcounty.gov/extranet/assessor/Real%20Property%20Sales.zip\n",
      "    \n",
      "Successfully downloaded ZIP file\n",
      "    https://aqua.kingcounty.gov/extranet/assessor/Residential%20Building.zip\n",
      "    \n",
      "Successfully downloaded ZIP file\n",
      "    https://aqua.kingcounty.gov/extranet/assessor/Parcel.zip\n",
      "    \n",
      "Successfully downloaded ZIP file\n",
      "    https://aqua.kingcounty.gov/extranet/assessor/Lookup.zip\n",
      "    \n",
      "Successfully loaded CSV file into `real_property_sales` table\n",
      "        \n",
      "Successfully loaded CSV file into `residential_building` table\n",
      "        \n",
      "Successfully loaded CSV file into `parcel` table\n",
      "        \n",
      "Successfully loaded CSV file into `lookup` table\n",
      "        \n"
     ]
    }
   ],
   "source": [
    "data_collection.download_data_and_load_into_sql()"
   ]
  },
  {
   "cell_type": "code",
   "execution_count": null,
   "metadata": {},
   "outputs": [],
   "source": []
  }
 ],
 "metadata": {
  "kernelspec": {
   "display_name": "amanda",
   "language": "python",
   "name": "amanda"
  },
  "language_info": {
   "codemirror_mode": {
    "name": "ipython",
    "version": 3
   },
   "file_extension": ".py",
   "mimetype": "text/x-python",
   "name": "python",
   "nbconvert_exporter": "python",
   "pygments_lexer": "ipython3",
   "version": "3.8.2"
  }
 },
 "nbformat": 4,
 "nbformat_minor": 4
}
