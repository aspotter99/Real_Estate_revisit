{
 "cells": [
  {
   "cell_type": "code",
   "execution_count": 1,
   "metadata": {},
   "outputs": [],
   "source": [
    "import numpy as np\n",
    "import pandas as pd\n",
    "import scipy.stats as stats\n",
    "import matplotlib.pyplot as plt\n",
    "import seaborn as sns\n",
    "import statsmodels.api as sm\n",
    "from statsmodels.formula.api import ols\n",
    "%matplotlib inline\n",
    "from statsmodels.stats.diagnostic import linear_rainbow, het_breuschpagan\n",
    "from statsmodels.stats.outliers_influence import variance_inflation_factor\n",
    "sns.set_style('darkgrid')\n",
    "\n",
    "df = pd.read_csv('../asp_original', index_col=0)\n",
    "\n",
    "def check_for_assumptions(modelname):\n",
    "    rsquared = modelname.rsquared\n",
    "    params = modelname.params\n",
    "    print(f'Rsquared of Model: {rsquared}')\n",
    "    print('----------')\n",
    "    print('Beta values of Model:')\n",
    "    print(params)\n",
    "    rainbow_statistic, rainbow_p_value = linear_rainbow(modelname)\n",
    "    print(\"Rainbow statistic:\", rainbow_statistic)\n",
    "    print(\"Rainbow p-value:\", rainbow_p_value)\n",
    "    fig, ax = plt.subplots(1,2, figsize=(12,6))\n",
    "    residuals = modelname.resid\n",
    "    fig = sm.graphics.qqplot(residuals, dist=stats.norm, line='45', fit=True, ax=ax[0])\n",
    "    ax[0].set_title('QQ-Plot of Residuals')\n",
    "    ax[1].scatter(modelname.predict(), modelname.resid)\n",
    "    sns.set(font_scale = 1)\n",
    "    ax[1].set_title('Homoscadasicity Assumption')\n",
    "    plt.xlabel('Model Predictions')\n",
    "    plt.ylabel('Model Residuals')\n",
    "    ax[1].plot(modelname.predict(), [0 for i in range(len(df))], color = 'red')\n",
    "    fig.tight_layout()\n",
    "    return plt.show()\n",
    "def check_for_assumptions_with_kde(modelname):\n",
    "    rsquared = modelname.rsquared\n",
    "    params = modelname.params\n",
    "    print(f'Rsquared of Model: {rsquared}')\n",
    "    print('----------')\n",
    "    print('Beta values of Model:')\n",
    "    print(params)\n",
    "    rainbow_statistic, rainbow_p_value = linear_rainbow(modelname)\n",
    "    print(\"Rainbow statistic:\", rainbow_statistic)\n",
    "    print(\"Rainbow p-value:\", rainbow_p_value)\n",
    "    fig, ax = plt.subplots(1,2, figsize=(12,6))\n",
    "    residuals = modelname.resid\n",
    "    sns.kdeplot(residuals, shade=True, ax=ax[0])\n",
    "    ax[0].set_title('Normality Assumption of Residuals')\n",
    "    ax[1].scatter(modelname.predict(), modelname.resid)\n",
    "    sns.set(font_scale = 1)\n",
    "    ax[1].set_title('Homoscadasicity Assumption')\n",
    "    plt.xlabel('Model Predictions')\n",
    "    plt.ylabel('Model Residuals')\n",
    "    ax[1].plot(modelname.predict(), [0 for i in range(len(df))], color = 'red')\n",
    "    fig.tight_layout()\n",
    "    return plt.show()"
   ]
  },
  {
   "cell_type": "code",
   "execution_count": 3,
   "metadata": {},
   "outputs": [],
   "source": [
    "xs = np.linspace(-4, 4, 200)\n",
    "# use stats.t.pdf to get values on the probability density function for the t-distribution\n",
    "# the second argument is the degrees of freedom\n",
    "ys = stats.t.pdf(xs, len(df_porch)+len(df_noporch)-2, 0, 1)\n",
    "t_crit = np.round(stats.t.ppf(1 - 0.05, df=len(df_porch)+len(df_noporch)-2),3)\n",
    "\n",
    "fig = plt.figure(figsize=(15,8))\n",
    "ax = fig.gca()\n",
    "\n",
    "# plot the lines using matplotlib's plot function:\n",
    "ax.plot(xs, ys, linewidth=3, color='darkblue', alpha=.75)\n",
    "\n",
    "\n",
    "ax.axvline(t_crit,color='green',linestyle='--',lw=4,label='critical t-value', alpha=.75)\n",
    "ax.axvline(test_result[0],color='red',linestyle='--',lw=4,label='test t-stat', alpha=.75)\n",
    "ax.legend()\n",
    "ax.fill_betweenx(ys,xs,t_crit,where= xs > t_crit)\n",
    "plt.show()"
   ]
  },
  {
   "cell_type": "code",
   "execution_count": null,
   "metadata": {},
   "outputs": [],
   "source": [
    "def Cohen_d(group1, group2):\n",
    "    diff = group1.mean() - group2.mean()\n",
    "\n",
    "    n1, n2 = len(group1), len(group2)\n",
    "    var1 = group1.var()\n",
    "    var2 = group2.var()\n",
    "    pooled_var = (n1 * var1 + n2 * var2) / (n1 + n2)\n",
    "    \n",
    "    d = diff / np.sqrt(pooled_var)\n",
    "    \n",
    "    return d\n",
    "\n",
    "print(\"Effect Size for difference in Home Prices for the two groups (Cohen's d): \", Cohen_d(df_porch, df_noporch))"
   ]
  },
  {
   "cell_type": "code",
   "execution_count": null,
   "metadata": {},
   "outputs": [],
   "source": [
    "f, ax = plt.subplots(figsize=(12,6))\n",
    "sns.kdeplot(df_porch, label='Homes with a Porch',shade=True, ax=ax)\n",
    "sns.kdeplot(df_noporch, label='Homes without a Porch',shade=True, ax=ax)\n",
    "ax.axvline(df_porch.mean(),color='blue',linestyle='--',lw=1,alpha=.75)\n",
    "ax.axvline(df_noporch.mean(),color='green',linestyle='--',lw=1,alpha=.75)\n",
    "plt.legend(fontsize='large')\n",
    "plt.show();"
   ]
  },
  {
   "cell_type": "code",
   "execution_count": null,
   "metadata": {},
   "outputs": [],
   "source": [
    "# features to model in model 2\n",
    "features2 = ['saleprice', 'sqrt_totlivingsqft', 'bathtotcount', 'sqrt_porch_size']\n",
    "# create x-features:\n",
    "x_feats2 = features2.copy()\n",
    "x_feats2.remove('saleprice')\n",
    "mf.heatmap_multi(x_feats2, df)"
   ]
  }
 ],
 "metadata": {
  "kernelspec": {
   "display_name": "amanda",
   "language": "python",
   "name": "amanda"
  },
  "language_info": {
   "codemirror_mode": {
    "name": "ipython",
    "version": 3
   },
   "file_extension": ".py",
   "mimetype": "text/x-python",
   "name": "python",
   "nbconvert_exporter": "python",
   "pygments_lexer": "ipython3",
   "version": "3.8.2"
  }
 },
 "nbformat": 4,
 "nbformat_minor": 4
}
